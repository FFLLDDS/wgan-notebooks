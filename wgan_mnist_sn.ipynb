{
 "cells": [
  {
   "cell_type": "markdown",
   "source": [
    "# Wasserstein GAN $ \\tiny\\text{(with \\textbf{spectral norm layers} for lipschitz continuity)} $"
   ],
   "metadata": {}
  },
  {
   "cell_type": "markdown",
   "source": [
    "## imports"
   ],
   "metadata": {}
  },
  {
   "cell_type": "code",
   "execution_count": null,
   "source": [
    "import torch\n",
    "import torchvision\n",
    "import torch.nn as nn\n",
    "import matplotlib.pyplot as plt"
   ],
   "outputs": [],
   "metadata": {}
  },
  {
   "cell_type": "markdown",
   "source": [
    "## hyperparams"
   ],
   "metadata": {}
  },
  {
   "cell_type": "code",
   "execution_count": null,
   "source": [
    "PATH = 'data'\n",
    "BATCHSIZE = 64\n",
    "INPUTCHANNELS = 1\n",
    "NDF = 4                 # handle for number of discriminator features\n",
    "NGF = 32                # handle for number of generator features     \n",
    "NZ = 100                # generator sample dimension        \n",
    "LR = 1e-3               # Adam: learning rate\n",
    "B_ONE = 0.5             # Adam: decay of first order momentum of gradient\n",
    "B_TWO = 0.999           # Adam: decay of second order momentum of gradient\n",
    "EPOCHS = 20\n",
    "N_CRITIC = 5            # discriminator training over generator training"
   ],
   "outputs": [],
   "metadata": {}
  },
  {
   "cell_type": "markdown",
   "source": [
    "## load MNIST data"
   ],
   "metadata": {}
  },
  {
   "cell_type": "code",
   "execution_count": null,
   "source": [
    "device = torch.device(\"cuda:0\" if torch.cuda.is_available() else \"cpu\")\n",
    "\n",
    "transform = torchvision.transforms.ToTensor()\n",
    "train_data = torchvision.datasets.MNIST(root=PATH, train=True, transform=transform, download=True)\n",
    "\n",
    "train_loader = torch.utils.data.DataLoader(train_data, batch_size=BATCHSIZE, shuffle=True)"
   ],
   "outputs": [],
   "metadata": {}
  },
  {
   "cell_type": "markdown",
   "source": [
    "## Generator and Discriminator classes"
   ],
   "metadata": {}
  },
  {
   "cell_type": "code",
   "execution_count": null,
   "source": [
    "class Generator(nn.Module):\n",
    "    def __init__(self, nz, ngf, nc):\n",
    "        super().__init__()\n",
    "        \n",
    "        self.gen = nn.Sequential(\n",
    "                                    # input_size: (BATCHSIZE, nz=100, 1, 1)\n",
    "                                    torch.nn.utils.spectral_norm(nn.ConvTranspose2d(in_channels=nz, out_channels=ngf*8, kernel_size=4,stride=1, padding=0)), \n",
    "                                    nn.BatchNorm2d(ngf * 8), \n",
    "                                    nn.LeakyReLU(), \n",
    "                                    # input_size: (BATCHSIZE, ngf*8, 4, 4)\n",
    "                                    nn.ConvTranspose2d(in_channels=ngf*8, out_channels=ngf*4, kernel_size=3, stride=2, padding=1), \n",
    "                                    nn.BatchNorm2d(ngf * 4), \n",
    "                                    nn.LeakyReLU(), \n",
    "                                    # input_size: (BATCHSIZE, ngf*4, 7, 7)\n",
    "                                    nn.ConvTranspose2d(in_channels=ngf*4, out_channels=ngf, kernel_size=4, stride=2, padding=1), \n",
    "                                    nn.BatchNorm2d(ngf), \n",
    "                                    nn.LeakyReLU(), \n",
    "                                    # input_size: (BATCHSIZE, ngf, 14, 14)\n",
    "                                    nn.ConvTranspose2d(in_channels=ngf, out_channels=nc, kernel_size=4, stride=2, padding=1), \n",
    "                                    # output_size: (BATCHSIZE, nc, 28, 28)\n",
    "                                    nn.Sigmoid() \n",
    "                                )\n",
    "\n",
    "    def forward(self, input): \n",
    "        x = self.gen(input)\n",
    "        return x\n",
    "\n",
    "\n",
    "class Discriminator(nn.Module):\n",
    "    def __init__(self, nc, ndf):\n",
    "        super().__init__()\n",
    "        \n",
    "        self.dis = nn.Sequential(   # torch.nn.utils.parametrizations.spectral_norm produced an error\n",
    "                                    torch.nn.utils.spectral_norm(nn.Conv2d(in_channels=nc, out_channels=ndf, kernel_size=4, stride=2, padding=1)), \n",
    "                                    nn.LeakyReLU(), \n",
    "                                    torch.nn.utils.spectral_norm(nn.Conv2d(in_channels=ndf, out_channels=ndf*4, kernel_size=4, stride=2, padding=1)), \n",
    "                                    nn.BatchNorm2d(ndf*4), \n",
    "                                    nn.LeakyReLU(), \n",
    "                                    torch.nn.utils.spectral_norm(nn.Conv2d(in_channels=ndf*4, out_channels=ndf*8, kernel_size=4, stride=2, padding=1)), \n",
    "                                    nn.BatchNorm2d(ndf*8), \n",
    "                                    nn.LeakyReLU(), \n",
    "                                    nn.Flatten(1,-1), \n",
    "                                    torch.nn.utils.spectral_norm(nn.Linear(ndf*8*3*3, ndf*4*3*3)), \n",
    "                                    nn.LeakyReLU(), \n",
    "                                    torch.nn.utils.spectral_norm(nn.Linear(ndf*4*3*3, 1))\n",
    "                                )\n",
    "        \n",
    "    def forward(self, input): \n",
    "        x = self.dis(input)\n",
    "        return x"
   ],
   "outputs": [],
   "metadata": {}
  },
  {
   "cell_type": "markdown",
   "source": [
    "## initialize model"
   ],
   "metadata": {}
  },
  {
   "cell_type": "code",
   "execution_count": null,
   "source": [
    "dis = Discriminator(INPUTCHANNELS, NDF).to(device)\n",
    "gen = Generator(NZ, NGF, INPUTCHANNELS).to(device)\n",
    "\n",
    "optimizer_dis = torch.optim.Adam(dis.parameters(), lr=LR, betas=(B_ONE, B_TWO))\n",
    "optimizer_gen = torch.optim.Adam(gen.parameters(), lr=LR, betas=(B_ONE, B_TWO))"
   ],
   "outputs": [],
   "metadata": {}
  },
  {
   "cell_type": "markdown",
   "source": [
    "## training loop"
   ],
   "metadata": {}
  },
  {
   "cell_type": "code",
   "execution_count": null,
   "source": [
    "gen_losses = []\n",
    "dis_losses = []\n",
    "\n",
    "for epoch in range(EPOCHS): \n",
    "\n",
    "    for i, data in enumerate(train_loader): \n",
    "        real_im, _ = data\n",
    "        real_im = real_im.to(device)\n",
    "        \n",
    "        # ---------------------\n",
    "        #  Train Discriminator\n",
    "        # ---------------------\n",
    "\n",
    "        optimizer_dis.zero_grad()\n",
    "        \n",
    "        with torch.no_grad(): \n",
    "            z = torch.randn(len(real_im), NZ, 1, 1).to(device)   # batch-size, number-channels, height, width\n",
    "            fake_im = gen(z)\n",
    "        \n",
    "        disc_real = dis(real_im)\n",
    "        disc_fake = dis(fake_im)\n",
    "        # the discriminator minimizes its output for real images and maximizes its output for fake images (--> 'critic')\n",
    "        # (see Algorithm1 of Wasserstein GAN paper)\n",
    "        loss_dis = disc_real.mean() - disc_fake.mean()\n",
    "        \n",
    "        loss_dis.backward()\n",
    "        optimizer_dis.step()\n",
    "\n",
    "        # -----------------\n",
    "        #  Train Generator\n",
    "        # -----------------\n",
    "        if i % N_CRITIC == 0: \n",
    "        \n",
    "            optimizer_gen.zero_grad()\n",
    "            \n",
    "            z = torch.randn(len(real_im), NZ, 1, 1).to(device)\n",
    "            fake_im = gen(z)\n",
    "            output = dis(fake_im)\n",
    "            \n",
    "            # the generator tries to minimize the output of the discriminator (critic)\n",
    "            # (see Algorithm1 of Wasserstein GAN paper)\n",
    "            loss_gen = output.mean()\n",
    "\n",
    "            loss_gen.backward()\n",
    "            optimizer_gen.step()\n",
    "        \n",
    "        # record stats\n",
    "        avg_pred_real = disc_real.mean().item()\n",
    "        avg_pred_gen1 = disc_fake.mean().item()\n",
    "        avg_pred_gen2 = output.mean().item()\n",
    "\n",
    "        # print stats \n",
    "        if i % 50 == 0:\n",
    "            print(f'[{epoch+1}/{EPOCHS}] [{i}/{len(train_loader)}] \\nLoss D: {loss_dis.item()}, Loss G: {loss_gen.item()}, Mean D(x): {avg_pred_real}, Mean D(G(z)):{avg_pred_gen1} / {avg_pred_gen2}')\n",
    "\n",
    "        gen_losses.append(loss_gen.item())\n",
    "        dis_losses.append(loss_dis.item())"
   ],
   "outputs": [],
   "metadata": {}
  },
  {
   "cell_type": "markdown",
   "source": [
    "## check results"
   ],
   "metadata": {}
  },
  {
   "cell_type": "code",
   "execution_count": null,
   "source": [
    "# plot generator and discriminator loss\n",
    "plt.figure(figsize=(10,5))\n",
    "plt.title('Generator and Discriminator Loss')\n",
    "plt.plot(gen_losses, label='Generator')\n",
    "plt.plot(dis_losses, label='Discriminator')\n",
    "plt.xlabel('iterations')\n",
    "plt.ylabel('loss')\n",
    "plt.legend()\n",
    "plt.show()\n",
    "\n",
    "# sample from a standard gaussian\n",
    "z = torch.randn(10, NZ).to(device) \n",
    "# generate some images\n",
    "gen_img = gen(z.unsqueeze(2).unsqueeze(3)) \n",
    "\n",
    "# show generated images\n",
    "for i in range(10): \n",
    "  plt.subplot(2,5, i + 1) \n",
    "  plt.axis('off')\n",
    "  plt.imshow(gen_img[i].squeeze().detach().cpu().numpy(), cmap='gray_r')\n",
    "\n",
    "plt.show()"
   ],
   "outputs": [],
   "metadata": {}
  }
 ],
 "metadata": {
  "orig_nbformat": 4,
  "language_info": {
   "name": "python",
   "version": "3.9.6",
   "mimetype": "text/x-python",
   "codemirror_mode": {
    "name": "ipython",
    "version": 3
   },
   "pygments_lexer": "ipython3",
   "nbconvert_exporter": "python",
   "file_extension": ".py"
  },
  "kernelspec": {
   "name": "python3",
   "display_name": "Python 3.9.6 64-bit ('island': conda)"
  },
  "interpreter": {
   "hash": "5caaa1bc9b15b6b32c3354080b8d80e1a2af5d12081a1c55dce2cf9505551bea"
  }
 },
 "nbformat": 4,
 "nbformat_minor": 2
}